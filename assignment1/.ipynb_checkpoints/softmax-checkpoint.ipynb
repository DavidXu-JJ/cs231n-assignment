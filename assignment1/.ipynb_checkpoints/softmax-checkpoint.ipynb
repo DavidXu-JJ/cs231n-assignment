{
 "cells": [
  {
   "cell_type": "markdown",
   "metadata": {},
   "source": [
    "# Softmax exercise\n",
    "\n",
    "*Complete and hand in this completed worksheet (including its outputs and any supporting code outside of the worksheet) with your assignment submission. For more details see the [assignments page](http://vision.stanford.edu/teaching/cs231n/assignments.html) on the course website.*\n",
    "\n",
    "This exercise is analogous to the SVM exercise. You will:\n",
    "\n",
    "- implement a fully-vectorized **loss function** for the Softmax classifier\n",
    "- implement the fully-vectorized expression for its **analytic gradient**\n",
    "- **check your implementation** with numerical gradient\n",
    "- use a validation set to **tune the learning rate and regularization** strength\n",
    "- **optimize** the loss function with **SGD**\n",
    "- **visualize** the final learned weights\n"
   ]
  },
  {
   "cell_type": "code",
   "execution_count": 1,
   "metadata": {},
   "outputs": [],
   "source": [
    "import random\n",
    "import numpy as np\n",
    "from cs231n.data_utils import load_CIFAR10\n",
    "import matplotlib.pyplot as plt\n",
    "\n",
    "from __future__ import print_function\n",
    "\n",
    "%matplotlib inline\n",
    "plt.rcParams['figure.figsize'] = (10.0, 8.0) # set default size of plots\n",
    "plt.rcParams['image.interpolation'] = 'nearest'\n",
    "plt.rcParams['image.cmap'] = 'gray'\n",
    "\n",
    "# for auto-reloading extenrnal modules\n",
    "# see http://stackoverflow.com/questions/1907993/autoreload-of-modules-in-ipython\n",
    "%load_ext autoreload\n",
    "%autoreload 2"
   ]
  },
  {
   "cell_type": "code",
   "execution_count": 2,
   "metadata": {},
   "outputs": [
    {
     "name": "stdout",
     "output_type": "stream",
     "text": [
      "Train data shape:  (49000, 3073)\n",
      "Train labels shape:  (49000,)\n",
      "Validation data shape:  (1000, 3073)\n",
      "Validation labels shape:  (1000,)\n",
      "Test data shape:  (1000, 3073)\n",
      "Test labels shape:  (1000,)\n",
      "dev data shape:  (500, 3073)\n",
      "dev labels shape:  (500,)\n"
     ]
    }
   ],
   "source": [
    "def get_CIFAR10_data(num_training=49000, num_validation=1000, num_test=1000, num_dev=500):\n",
    "    \"\"\"\n",
    "    Load the CIFAR-10 dataset from disk and perform preprocessing to prepare\n",
    "    it for the linear classifier. These are the same steps as we used for the\n",
    "    SVM, but condensed to a single function.  \n",
    "    \"\"\"\n",
    "    # Load the raw CIFAR-10 data\n",
    "    cifar10_dir = 'cs231n/datasets/cifar-10-batches-py'\n",
    "    X_train, y_train, X_test, y_test = load_CIFAR10(cifar10_dir)\n",
    "    \n",
    "    # subsample the data\n",
    "    mask = list(range(num_training, num_training + num_validation))\n",
    "    X_val = X_train[mask]\n",
    "    y_val = y_train[mask]\n",
    "    mask = list(range(num_training))\n",
    "    X_train = X_train[mask]\n",
    "    y_train = y_train[mask]\n",
    "    mask = list(range(num_test))\n",
    "    X_test = X_test[mask]\n",
    "    y_test = y_test[mask]\n",
    "    mask = np.random.choice(num_training, num_dev, replace=False)\n",
    "    X_dev = X_train[mask]\n",
    "    y_dev = y_train[mask]\n",
    "    \n",
    "    # Preprocessing: reshape the image data into rows\n",
    "    X_train = np.reshape(X_train, (X_train.shape[0], -1))\n",
    "    X_val = np.reshape(X_val, (X_val.shape[0], -1))\n",
    "    X_test = np.reshape(X_test, (X_test.shape[0], -1))\n",
    "    X_dev = np.reshape(X_dev, (X_dev.shape[0], -1))\n",
    "    \n",
    "    # Normalize the data: subtract the mean image\n",
    "    mean_image = np.mean(X_train, axis = 0)\n",
    "    X_train -= mean_image\n",
    "    X_val -= mean_image\n",
    "    X_test -= mean_image\n",
    "    X_dev -= mean_image\n",
    "    \n",
    "    # add bias dimension and transform into columns\n",
    "    X_train = np.hstack([X_train, np.ones((X_train.shape[0], 1))])\n",
    "    X_val = np.hstack([X_val, np.ones((X_val.shape[0], 1))])\n",
    "    X_test = np.hstack([X_test, np.ones((X_test.shape[0], 1))])\n",
    "    X_dev = np.hstack([X_dev, np.ones((X_dev.shape[0], 1))])\n",
    "    \n",
    "    return X_train, y_train, X_val, y_val, X_test, y_test, X_dev, y_dev\n",
    "\n",
    "\n",
    "# Invoke the above function to get our data.\n",
    "X_train, y_train, X_val, y_val, X_test, y_test, X_dev, y_dev = get_CIFAR10_data()\n",
    "print('Train data shape: ', X_train.shape)\n",
    "print('Train labels shape: ', y_train.shape)\n",
    "print('Validation data shape: ', X_val.shape)\n",
    "print('Validation labels shape: ', y_val.shape)\n",
    "print('Test data shape: ', X_test.shape)\n",
    "print('Test labels shape: ', y_test.shape)\n",
    "print('dev data shape: ', X_dev.shape)\n",
    "print('dev labels shape: ', y_dev.shape)"
   ]
  },
  {
   "cell_type": "markdown",
   "metadata": {},
   "source": [
    "## Softmax Classifier\n",
    "\n",
    "Your code for this section will all be written inside **cs231n/classifiers/softmax.py**. \n"
   ]
  },
  {
   "cell_type": "code",
   "execution_count": 34,
   "metadata": {},
   "outputs": [
    {
     "name": "stdout",
     "output_type": "stream",
     "text": [
      "loss: 2.357577\n",
      "sanity check: 2.302585\n"
     ]
    }
   ],
   "source": [
    "# First implement the naive softmax loss function with nested loops.\n",
    "# Open the file cs231n/classifiers/softmax.py and implement the\n",
    "# softmax_loss_naive function.\n",
    "\n",
    "from cs231n.classifiers.softmax import softmax_loss_naive\n",
    "import time\n",
    "\n",
    "# Generate a random softmax weight matrix and use it to compute the loss.\n",
    "W = np.random.randn(3073, 10) * 0.0001\n",
    "loss, grad = softmax_loss_naive(W, X_dev, y_dev, 0.0)\n",
    "\n",
    "# As a rough sanity check, our loss should be something close to -log(0.1).\n",
    "print('loss: %f' % loss)\n",
    "print('sanity check: %f' % (-np.log(0.1)))"
   ]
  },
  {
   "cell_type": "markdown",
   "metadata": {},
   "source": [
    "## Inline Question 1:\n",
    "Why do we expect our loss to be close to -log(0.1)? Explain briefly.**\n",
    "\n",
    "**Your answer:** *Fill this in*\n",
    "\n",
    "W是随机生成的，那么猜中的概率约等于0.1\n"
   ]
  },
  {
   "cell_type": "code",
   "execution_count": 40,
   "metadata": {},
   "outputs": [
    {
     "name": "stdout",
     "output_type": "stream",
     "text": [
      "numerical: 0.125418 analytic: 0.125418, relative error: 1.928236e-07\n",
      "numerical: -2.330429 analytic: -2.330429, relative error: 6.168818e-09\n",
      "numerical: -1.424711 analytic: -1.424711, relative error: 4.840928e-09\n",
      "numerical: -1.188552 analytic: -1.188552, relative error: 7.423962e-09\n",
      "numerical: -3.484477 analytic: -3.484477, relative error: 1.412650e-08\n",
      "numerical: 1.628732 analytic: 1.628732, relative error: 2.417428e-08\n",
      "numerical: 2.410253 analytic: 2.410253, relative error: 3.680593e-08\n",
      "numerical: -4.830759 analytic: -4.830759, relative error: 1.859097e-09\n",
      "numerical: 4.891362 analytic: 4.891362, relative error: 1.159754e-08\n",
      "numerical: 1.049999 analytic: 1.049999, relative error: 1.266956e-08\n",
      "numerical: 2.365643 analytic: 2.365643, relative error: 2.863953e-09\n",
      "numerical: 1.613669 analytic: 1.613669, relative error: 4.811542e-08\n",
      "numerical: -3.195082 analytic: -3.195082, relative error: 5.040794e-09\n",
      "numerical: 0.015520 analytic: 0.015520, relative error: 3.194164e-07\n",
      "numerical: 0.124225 analytic: 0.124225, relative error: 5.175334e-07\n",
      "numerical: 0.176330 analytic: 0.176330, relative error: 1.238418e-09\n",
      "numerical: -5.895026 analytic: -5.895026, relative error: 1.054957e-09\n",
      "numerical: -4.043355 analytic: -4.043355, relative error: 7.186676e-09\n",
      "numerical: -0.265137 analytic: -0.265137, relative error: 7.323525e-08\n",
      "numerical: -2.198880 analytic: -2.198880, relative error: 7.018719e-09\n"
     ]
    }
   ],
   "source": [
    "# Complete the implementation of softmax_loss_naive and implement a (naive)\n",
    "# version of the gradient that uses nested loops.\n",
    "loss, grad = softmax_loss_naive(W, X_dev, y_dev, 0.0)\n",
    "\n",
    "# As we did for the SVM, use numeric gradient checking as a debugging tool.\n",
    "# The numeric gradient should be close to the analytic gradient.\n",
    "from cs231n.gradient_check import grad_check_sparse\n",
    "f = lambda w: softmax_loss_naive(w, X_dev, y_dev, 0.0)[0]\n",
    "grad_numerical = grad_check_sparse(f, W, grad, 10)\n",
    "\n",
    "# similar to SVM case, do another gradient check with regularization\n",
    "loss, grad = softmax_loss_naive(W, X_dev, y_dev, 5e1)\n",
    "f = lambda w: softmax_loss_naive(w, X_dev, y_dev, 5e1)[0]\n",
    "grad_numerical = grad_check_sparse(f, W, grad, 10)"
   ]
  },
  {
   "cell_type": "code",
   "execution_count": 42,
   "metadata": {},
   "outputs": [
    {
     "name": "stdout",
     "output_type": "stream",
     "text": [
      "naive loss: 2.357577e+00 computed in 0.002689s\n",
      "vectorized loss: 2.357577e+00 computed in 0.002496s\n",
      "Loss difference: 0.000000\n",
      "Gradient difference: 0.000000\n"
     ]
    }
   ],
   "source": [
    "# Now that we have a naive implementation of the softmax loss function and its gradient,\n",
    "# implement a vectorized version in softmax_loss_vectorized.\n",
    "# The two versions should compute the same results, but the vectorized version should be\n",
    "# much faster.\n",
    "tic = time.time()\n",
    "loss_naive, grad_naive = softmax_loss_naive(W, X_dev, y_dev, 0.000005)\n",
    "toc = time.time()\n",
    "print('naive loss: %e computed in %fs' % (loss_naive, toc - tic))\n",
    "\n",
    "from cs231n.classifiers.softmax import softmax_loss_vectorized\n",
    "tic = time.time()\n",
    "loss_vectorized, grad_vectorized = softmax_loss_vectorized(W, X_dev, y_dev, 0.000005)\n",
    "toc = time.time()\n",
    "print('vectorized loss: %e computed in %fs' % (loss_vectorized, toc - tic))\n",
    "\n",
    "# As we did for the SVM, we use the Frobenius norm to compare the two versions\n",
    "# of the gradient.\n",
    "grad_difference = np.linalg.norm(grad_naive - grad_vectorized, ord='fro')\n",
    "print('Loss difference: %f' % np.abs(loss_naive - loss_vectorized))\n",
    "print('Gradient difference: %f' % grad_difference)"
   ]
  },
  {
   "cell_type": "code",
   "execution_count": 45,
   "metadata": {},
   "outputs": [
    {
     "name": "stdout",
     "output_type": "stream",
     "text": [
      "iteration 0 / 1500: loss 391.194280\n",
      "iteration 100 / 1500: loss 236.229712\n",
      "iteration 200 / 1500: loss 143.498788\n",
      "iteration 300 / 1500: loss 87.715935\n",
      "iteration 400 / 1500: loss 53.890677\n",
      "iteration 500 / 1500: loss 33.306290\n",
      "iteration 600 / 1500: loss 20.990426\n",
      "iteration 700 / 1500: loss 13.545125\n",
      "iteration 800 / 1500: loss 8.976842\n",
      "iteration 900 / 1500: loss 6.172200\n",
      "iteration 1000 / 1500: loss 4.574685\n",
      "iteration 1100 / 1500: loss 3.541881\n",
      "iteration 1200 / 1500: loss 2.947928\n",
      "iteration 1300 / 1500: loss 2.540615\n",
      "iteration 1400 / 1500: loss 2.399531\n",
      "iteration 0 / 1500: loss 779.889019\n",
      "iteration 100 / 1500: loss 286.415959\n",
      "iteration 200 / 1500: loss 106.312893\n",
      "iteration 300 / 1500: loss 40.194394\n",
      "iteration 400 / 1500: loss 16.041588\n",
      "iteration 500 / 1500: loss 7.234180\n",
      "iteration 600 / 1500: loss 3.917441\n",
      "iteration 700 / 1500: loss 2.763863\n",
      "iteration 800 / 1500: loss 2.303557\n",
      "iteration 900 / 1500: loss 2.153838\n",
      "iteration 1000 / 1500: loss 2.149606\n",
      "iteration 1100 / 1500: loss 2.081964\n",
      "iteration 1200 / 1500: loss 2.039465\n",
      "iteration 1300 / 1500: loss 2.054717\n",
      "iteration 1400 / 1500: loss 2.090493\n",
      "iteration 0 / 1500: loss 387.671898\n",
      "iteration 100 / 1500: loss 32.832702\n",
      "iteration 200 / 1500: loss 4.493530\n",
      "iteration 300 / 1500: loss 2.236097\n",
      "iteration 400 / 1500: loss 1.992120\n",
      "iteration 500 / 1500: loss 2.033714\n",
      "iteration 600 / 1500: loss 2.072705\n",
      "iteration 700 / 1500: loss 2.042209\n",
      "iteration 800 / 1500: loss 2.046043\n",
      "iteration 900 / 1500: loss 2.026692\n",
      "iteration 1000 / 1500: loss 2.055567\n",
      "iteration 1100 / 1500: loss 2.027056\n",
      "iteration 1200 / 1500: loss 2.144977\n",
      "iteration 1300 / 1500: loss 2.053543\n",
      "iteration 1400 / 1500: loss 2.043450\n",
      "iteration 0 / 1500: loss 781.410683\n",
      "iteration 100 / 1500: loss 6.985944\n",
      "iteration 200 / 1500: loss 2.149251\n",
      "iteration 300 / 1500: loss 2.061829\n",
      "iteration 400 / 1500: loss 2.020878\n",
      "iteration 500 / 1500: loss 2.070204\n",
      "iteration 600 / 1500: loss 2.070813\n",
      "iteration 700 / 1500: loss 2.064830\n",
      "iteration 800 / 1500: loss 2.079664\n",
      "iteration 900 / 1500: loss 2.055145\n",
      "iteration 1000 / 1500: loss 2.116636\n",
      "iteration 1100 / 1500: loss 2.047606\n",
      "iteration 1200 / 1500: loss 2.079154\n",
      "iteration 1300 / 1500: loss 2.091892\n",
      "iteration 1400 / 1500: loss 2.095956\n",
      "lr 1.000000e-07 reg 2.500000e+04 train accuracy: 0.348816 val accuracy: 0.364000\n",
      "lr 1.000000e-07 reg 5.000000e+04 train accuracy: 0.324388 val accuracy: 0.342000\n",
      "lr 5.000000e-07 reg 2.500000e+04 train accuracy: 0.341898 val accuracy: 0.356000\n",
      "lr 5.000000e-07 reg 5.000000e+04 train accuracy: 0.327776 val accuracy: 0.346000\n",
      "best validation accuracy achieved during cross-validation: 0.364000\n"
     ]
    }
   ],
   "source": [
    "# Use the validation set to tune hyperparameters (regularization strength and\n",
    "# learning rate). You should experiment with different ranges for the learning\n",
    "# rates and regularization strengths; if you are careful you should be able to\n",
    "# get a classification accuracy of over 0.35 on the validation set.\n",
    "from cs231n.classifiers import Softmax\n",
    "results = {}\n",
    "best_val = -1\n",
    "best_softmax = None\n",
    "learning_rates = [1e-7, 5e-7]\n",
    "regularization_strengths = [2.5e4, 5e4]\n",
    "\n",
    "for rate in learning_rates:\n",
    "    for strength in regularization_strengths:\n",
    "        classifier=Softmax()\n",
    "        classifier.train(X_train,y_train,learning_rate=rate,num_iters=1500\n",
    "                                   ,reg=strength,verbose=True)\n",
    "        y_train_pred=classifier.predict(X_train)\n",
    "        y_vali_pred=classifier.predict(X_val)\n",
    "        accuracy=np.mean(y_vali_pred==y_val)\n",
    "        results[(rate,strength)]=(np.mean(y_train==y_train_pred),accuracy)\n",
    "        if accuracy>best_val:\n",
    "            best_val=accuracy\n",
    "            best_softmax=classifier\n",
    "################################################################################\n",
    "# TODO:                                                                        #\n",
    "# Use the validation set to set the learning rate and regularization strength. #\n",
    "# This should be identical to the validation that you did for the SVM; save    #\n",
    "# the best trained softmax classifer in best_softmax.                          #\n",
    "################################################################################\n",
    "pass\n",
    "################################################################################\n",
    "#                              END OF YOUR CODE                                #\n",
    "################################################################################\n",
    "    \n",
    "# Print out results.\n",
    "for lr, reg in sorted(results):\n",
    "    train_accuracy, val_accuracy = results[(lr, reg)]\n",
    "    print('lr %e reg %e train accuracy: %f val accuracy: %f' % (\n",
    "                lr, reg, train_accuracy, val_accuracy))\n",
    "    \n",
    "print('best validation accuracy achieved during cross-validation: %f' % best_val)"
   ]
  },
  {
   "cell_type": "code",
   "execution_count": 46,
   "metadata": {},
   "outputs": [
    {
     "name": "stdout",
     "output_type": "stream",
     "text": [
      "softmax on raw pixels final test set accuracy: 0.362000\n"
     ]
    }
   ],
   "source": [
    "# evaluate on test set\n",
    "# Evaluate the best softmax on test set\n",
    "y_test_pred = best_softmax.predict(X_test)\n",
    "test_accuracy = np.mean(y_test == y_test_pred)\n",
    "print('softmax on raw pixels final test set accuracy: %f' % (test_accuracy, ))"
   ]
  },
  {
   "cell_type": "code",
   "execution_count": 47,
   "metadata": {},
   "outputs": [
    {
     "data": {
      "image/png": "[encoded data removed]",
      "text/plain": [
       "<Figure size 720x576 with 10 Axes>"
      ]
     },
     "metadata": {
      "needs_background": "light"
     },
     "output_type": "display_data"
    }
   ],
   "source": [
    "# Visualize the learned weights for each class\n",
    "w = best_softmax.W[:-1,:] # strip out the bias\n",
    "w = w.reshape(32, 32, 3, 10)\n",
    "\n",
    "w_min, w_max = np.min(w), np.max(w)\n",
    "\n",
    "classes = ['plane', 'car', 'bird', 'cat', 'deer', 'dog', 'frog', 'horse', 'ship', 'truck']\n",
    "for i in range(10):\n",
    "    plt.subplot(2, 5, i + 1)\n",
    "    \n",
    "    # Rescale the weights to be between 0 and 255\n",
    "    wimg = 255.0 * (w[:, :, :, i].squeeze() - w_min) / (w_max - w_min)\n",
    "    plt.imshow(wimg.astype('uint8'))\n",
    "    plt.axis('off')\n",
    "    plt.title(classes[i])"
   ]
  },
  {
   "cell_type": "code",
   "execution_count": null,
   "metadata": {},
   "outputs": [],
   "source": []
  }
 ],
 "metadata": {
  "kernelspec": {
   "display_name": "Python 3",
   "language": "python",
   "name": "python3"
  },
  "language_info": {
   "codemirror_mode": {
    "name": "ipython",
    "version": 3
   },
   "file_extension": ".py",
   "mimetype": "text/x-python",
   "name": "python",
   "nbconvert_exporter": "python",
   "pygments_lexer": "ipython3",
   "version": "3.8.8"
  }
 },
 "nbformat": 4,
 "nbformat_minor": 1
}
